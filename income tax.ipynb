{
 "cells": [
  {
   "cell_type": "code",
   "execution_count": null,
   "metadata": {},
   "outputs": [
    {
     "name": "stdout",
     "output_type": "stream",
     "text": [
      "enter your income 750000\n"
     ]
    }
   ],
   "source": [
    "#income tax calculation in india\n",
    "income=int(input(\"enter your income \"))\n",
    "age=int(input(\"enter your age\"))\n",
    "tax=0\n",
    "cess=0\n",
    "if age<=18:\n",
    "    print(\"your age is less than 18 so you are not eligible to pay tax\")\n",
    "elif age<=60:\n",
    "    if income<=250000:\n",
    "        tax=0\n",
    "    elif income<=500000:\n",
    "        tax=(income-250000)*0.05\n",
    "    elif income<=1000000:\n",
    "        tax= 12500 + (income-500000)*0.2\n",
    "    else:\n",
    "        tax=12500+100000+(income-1000000)*0.3\n",
    "    print(\"your age is more than 18 \")\n",
    "        \n",
    "elif age<=80:\n",
    "    if income<=300000:\n",
    "        tax=0\n",
    "    elif income<=500000:\n",
    "        tax=(income-300000)*0.05\n",
    "    elif income<=1000000:\n",
    "        tax= 10000 + (income-500000)*0.2\n",
    "    else:\n",
    "        tax=10000+100000+(income-1000000)*0.3\n",
    "    print(\"your age is more than 60 and you are senior citizen \\n\")\n",
    "else:\n",
    "    if income<=500000:\n",
    "        tax=0\n",
    "    elif income<=1000000:\n",
    "        tax=(income-500000)*0.2\n",
    "     \n",
    "    else:\n",
    "        tax=100000+(income-1000000)*0.3\n",
    "    print(\"your age is more than 80 and you are super senior citizen \\n\")\n",
    "    \n",
    "\n",
    "cess=tax*.04\n",
    "ttax=tax+cess\n",
    "print(\"your income tax = \" ,tax)\n",
    "print(\"your health and education tax = \",cess)\n",
    "print(\"your total tax to be paid = \",ttax)\n"
   ]
  },
  {
   "cell_type": "code",
   "execution_count": null,
   "metadata": {},
   "outputs": [],
   "source": [
    " \n"
   ]
  },
  {
   "cell_type": "code",
   "execution_count": null,
   "metadata": {},
   "outputs": [],
   "source": []
  },
  {
   "cell_type": "code",
   "execution_count": null,
   "metadata": {},
   "outputs": [],
   "source": []
  },
  {
   "cell_type": "code",
   "execution_count": null,
   "metadata": {},
   "outputs": [],
   "source": []
  }
 ],
 "metadata": {
  "kernelspec": {
   "display_name": "Python 3",
   "language": "python",
   "name": "python3"
  },
  "language_info": {
   "codemirror_mode": {
    "name": "ipython",
    "version": 3
   },
   "file_extension": ".py",
   "mimetype": "text/x-python",
   "name": "python",
   "nbconvert_exporter": "python",
   "pygments_lexer": "ipython3",
   "version": "3.8.3"
  }
 },
 "nbformat": 4,
 "nbformat_minor": 4
}
